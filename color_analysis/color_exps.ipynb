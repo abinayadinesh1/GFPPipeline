{
 "cells": [
  {
   "cell_type": "code",
   "execution_count": 1,
   "metadata": {},
   "outputs": [],
   "source": [
    "import argparse\n",
    "import cv2"
   ]
  },
  {
   "attachments": {},
   "cell_type": "markdown",
   "metadata": {},
   "source": [
    "construct the argument parser and parse the arguments\n"
   ]
  },
  {
   "cell_type": "code",
   "execution_count": 2,
   "metadata": {},
   "outputs": [
    {
     "data": {
      "text/plain": [
       "_StoreAction(option_strings=['-i', '--image'], dest='image', nargs=None, const=None, default='/Users/abinayadinesh/Documents/projects/gfp_analysis/color_analysis/random.png', type=<class 'str'>, choices=None, required=False, help='path to input image', metavar=None)"
      ]
     },
     "execution_count": 2,
     "metadata": {},
     "output_type": "execute_result"
    }
   ],
   "source": [
    "ap = argparse.ArgumentParser()\n",
    "ap.add_argument(\"-i\", \"--image\", type=str, default=\"/Users/abinayadinesh/Documents/projects/gfp_analysis/color_analysis/random.png\",\n",
    "\thelp=\"path to input image\")"
   ]
  },
  {
   "cell_type": "code",
   "execution_count": 5,
   "metadata": {},
   "outputs": [],
   "source": [
    "args = vars(ap.parse_args(args=[]))"
   ]
  },
  {
   "cell_type": "code",
   "execution_count": 6,
   "metadata": {},
   "outputs": [],
   "source": [
    "image = cv2.imread(args[\"image\"])\n",
    "cv2.imshow(\"RGB\", image)"
   ]
  },
  {
   "attachments": {},
   "cell_type": "markdown",
   "metadata": {},
   "source": [
    "exploring our image"
   ]
  },
  {
   "cell_type": "code",
   "execution_count": 7,
   "metadata": {},
   "outputs": [
    {
     "name": "stdout",
     "output_type": "stream",
     "text": [
      "(3024, 4032, 3)\n",
      "3024\n"
     ]
    }
   ],
   "source": [
    "print(image.shape) # (3024, 4032, 3). 3 channels presumably RGB? actually its BGR because thats the way opencv loads it in\n",
    "print(len(cv2.split(image)[0])) #length of this tuple is three. length of first element is 3024. perfect, so we've split into B, G, R. "
   ]
  },
  {
   "attachments": {},
   "cell_type": "markdown",
   "metadata": {},
   "source": [
    "# looping through each channel of our image (BGR)"
   ]
  },
  {
   "cell_type": "code",
   "execution_count": 9,
   "metadata": {},
   "outputs": [
    {
     "name": "stdout",
     "output_type": "stream",
     "text": [
      "[[[  0   0   0]\n",
      "  [  0   0   0]\n",
      "  [  0   0   0]\n",
      "  ...\n",
      "  [  0   0   0]\n",
      "  [  0   0   0]\n",
      "  [  0   0   0]]\n",
      "\n",
      " [[  0   0   0]\n",
      "  [  0   0   0]\n",
      "  [  0   0   0]\n",
      "  ...\n",
      "  [  0   0   0]\n",
      "  [  0   0   0]\n",
      "  [  0   0   0]]\n",
      "\n",
      " [[ 86 111 137]\n",
      "  [ 82 107 133]\n",
      "  [ 81 108 135]\n",
      "  ...\n",
      "  [ 98 109 123]\n",
      "  [ 92 103 117]\n",
      "  [ 98 109 123]]\n",
      "\n",
      " ...\n",
      "\n",
      " [[  0   0   0]\n",
      "  [  0   0   0]\n",
      "  [  1   1   1]\n",
      "  ...\n",
      "  [ 18  18  24]\n",
      "  [ 16  16  22]\n",
      "  [ 10  10  16]]\n",
      "\n",
      " [[  0   0   0]\n",
      "  [  0   0   0]\n",
      "  [  2   2   2]\n",
      "  ...\n",
      "  [ 12  12  18]\n",
      "  [ 14  14  20]\n",
      "  [ 14  14  20]]\n",
      "\n",
      " [[  0   0   0]\n",
      "  [  0   0   0]\n",
      "  [  3   3   3]\n",
      "  ...\n",
      "  [  9   9  15]\n",
      "  [ 13  13  19]\n",
      "  [ 16  16  22]]]\n"
     ]
    }
   ],
   "source": [
    "# print(image)\n",
    "# for (name, chan) in zip((\"B\", \"G\", \"R\"), cv2.split(image)):\n",
    "# \tcv2.imshow(name, chan)\n",
    "# cv2.waitKey(0)\n",
    "# cv2.destroyAllWindows()"
   ]
  },
  {
   "attachments": {},
   "cell_type": "markdown",
   "metadata": {},
   "source": [
    "# convert to HSV and view"
   ]
  },
  {
   "cell_type": "code",
   "execution_count": 8,
   "metadata": {},
   "outputs": [],
   "source": [
    "hsv = cv2.cvtColor(image, cv2.COLOR_BGR2HSV)\n",
    "cv2.imshow(\"HSV\", hsv)"
   ]
  },
  {
   "cell_type": "code",
   "execution_count": 9,
   "metadata": {},
   "outputs": [],
   "source": [
    "# loop over each of the individual channels and display them\n",
    "# for (name, chan) in zip((\"H\", \"S\", \"V\"), cv2.split(hsv)):\n",
    "# \tcv2.imshow(name, chan)\n",
    "# # wait for a keypress, then close all open windows\n",
    "# cv2.waitKey(0)\n",
    "# cv2.destroyAllWindows()"
   ]
  },
  {
   "attachments": {},
   "cell_type": "markdown",
   "metadata": {},
   "source": [
    "notes: value determines the LIGHTNESS of the color (how bright or dark), while hue and saturation control the color and shade\n",
    "grayscale only has info on LUMINESCENCE"
   ]
  },
  {
   "attachments": {},
   "cell_type": "markdown",
   "metadata": {},
   "source": [
    "# convert to the L*a*b* color space \n"
   ]
  },
  {
   "cell_type": "code",
   "execution_count": 10,
   "metadata": {},
   "outputs": [],
   "source": [
    "# lab = cv2.cvtColor(image, cv2.COLOR_BGR2LAB)\n",
    "# cv2.imshow(\"L*a*b*\", lab)\n",
    "# for (name, chan) in zip((\"L*\", \"a*\", \"b*\"), cv2.split(lab)):\n",
    "# \tcv2.imshow(name, chan)\n",
    "# cv2.waitKey(0)\n",
    "# cv2.destroyAllWindows()"
   ]
  },
  {
   "attachments": {},
   "cell_type": "markdown",
   "metadata": {},
   "source": []
  }
 ],
 "metadata": {
  "kernelspec": {
   "display_name": "Python 3",
   "language": "python",
   "name": "python3"
  },
  "language_info": {
   "codemirror_mode": {
    "name": "ipython",
    "version": 3
   },
   "file_extension": ".py",
   "mimetype": "text/x-python",
   "name": "python",
   "nbconvert_exporter": "python",
   "pygments_lexer": "ipython3",
   "version": "3.9.16"
  },
  "orig_nbformat": 4
 },
 "nbformat": 4,
 "nbformat_minor": 2
}
