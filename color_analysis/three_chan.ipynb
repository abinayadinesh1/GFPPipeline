{
 "cells": [
  {
   "cell_type": "code",
   "execution_count": 7,
   "metadata": {},
   "outputs": [],
   "source": [
    "import argparse\n",
    "import cv2"
   ]
  },
  {
   "cell_type": "code",
   "execution_count": 37,
   "metadata": {},
   "outputs": [
    {
     "data": {
      "text/plain": [
       "array([[[ 82, 107, 133],\n",
       "        [ 80, 105, 131],\n",
       "        [ 80, 107, 134],\n",
       "        ...,\n",
       "        [ 98, 109, 123],\n",
       "        [ 98, 109, 123],\n",
       "        [ 95, 106, 120]],\n",
       "\n",
       "       [[ 85, 110, 136],\n",
       "        [ 79, 104, 130],\n",
       "        [ 76, 103, 130],\n",
       "        ...,\n",
       "        [ 95, 106, 120],\n",
       "        [ 94, 105, 119],\n",
       "        [ 95, 106, 120]],\n",
       "\n",
       "       [[ 86, 111, 137],\n",
       "        [ 82, 107, 133],\n",
       "        [ 81, 108, 135],\n",
       "        ...,\n",
       "        [ 98, 109, 123],\n",
       "        [ 92, 103, 117],\n",
       "        [ 98, 109, 123]],\n",
       "\n",
       "       ...,\n",
       "\n",
       "       [[  0,   0,   0],\n",
       "        [  0,   0,   0],\n",
       "        [  1,   1,   1],\n",
       "        ...,\n",
       "        [ 18,  18,  24],\n",
       "        [ 16,  16,  22],\n",
       "        [ 10,  10,  16]],\n",
       "\n",
       "       [[  0,   0,   0],\n",
       "        [  0,   0,   0],\n",
       "        [  2,   2,   2],\n",
       "        ...,\n",
       "        [ 12,  12,  18],\n",
       "        [ 14,  14,  20],\n",
       "        [ 14,  14,  20]],\n",
       "\n",
       "       [[  0,   0,   0],\n",
       "        [  0,   0,   0],\n",
       "        [  3,   3,   3],\n",
       "        ...,\n",
       "        [  9,   9,  15],\n",
       "        [ 13,  13,  19],\n",
       "        [ 16,  16,  22]]], dtype=uint8)"
      ]
     },
     "execution_count": 37,
     "metadata": {},
     "output_type": "execute_result"
    }
   ],
   "source": [
    "image = cv2.imread(\"random.png\")\n",
    "trial = image.copy()\n",
    "trial\n",
    "# trial.shape is (3024, 4032, 3)"
   ]
  },
  {
   "cell_type": "code",
   "execution_count": 43,
   "metadata": {},
   "outputs": [
    {
     "data": {
      "text/plain": [
       "array([[ 85, 110, 136],\n",
       "       [ 79, 104, 130],\n",
       "       [ 76, 103, 130],\n",
       "       ...,\n",
       "       [ 95, 106, 120],\n",
       "       [ 94, 105, 119],\n",
       "       [ 95, 106, 120]], dtype=uint8)"
      ]
     },
     "execution_count": 43,
     "metadata": {},
     "output_type": "execute_result"
    }
   ],
   "source": [
    "trial[:, :, :] == trial\n",
    "trial[1]"
   ]
  },
  {
   "cell_type": "code",
   "execution_count": 29,
   "metadata": {},
   "outputs": [
    {
     "data": {
      "text/plain": [
       "array([[[ 82, 107, 133],\n",
       "        [ 80, 105, 131],\n",
       "        [ 80, 107, 134],\n",
       "        ...,\n",
       "        [ 98, 109, 123],\n",
       "        [ 98, 109, 123],\n",
       "        [ 95, 106, 120]],\n",
       "\n",
       "       [[ 85, 110, 136],\n",
       "        [ 79, 104, 130],\n",
       "        [ 76, 103, 130],\n",
       "        ...,\n",
       "        [ 95, 106, 120],\n",
       "        [ 94, 105, 119],\n",
       "        [ 95, 106, 120]],\n",
       "\n",
       "       [[ 86, 111, 137],\n",
       "        [ 82, 107, 133],\n",
       "        [ 81, 108, 135],\n",
       "        ...,\n",
       "        [ 98, 109, 123],\n",
       "        [ 92, 103, 117],\n",
       "        [ 98, 109, 123]],\n",
       "\n",
       "       ...,\n",
       "\n",
       "       [[  0,   0,   0],\n",
       "        [  0,   0,   0],\n",
       "        [  1,   1,   1],\n",
       "        ...,\n",
       "        [ 18,  18,  24],\n",
       "        [ 16,  16,  22],\n",
       "        [ 10,  10,  16]],\n",
       "\n",
       "       [[  0,   0,   0],\n",
       "        [  0,   0,   0],\n",
       "        [  2,   2,   2],\n",
       "        ...,\n",
       "        [ 12,  12,  18],\n",
       "        [ 14,  14,  20],\n",
       "        [ 14,  14,  20]],\n",
       "\n",
       "       [[  0,   0,   0],\n",
       "        [  0,   0,   0],\n",
       "        [  3,   3,   3],\n",
       "        ...,\n",
       "        [  9,   9,  15],\n",
       "        [ 13,  13,  19],\n",
       "        [ 16,  16,  22]]], dtype=uint8)"
      ]
     },
     "execution_count": 29,
     "metadata": {},
     "output_type": "execute_result"
    }
   ],
   "source": [
    "trial[:,:,:] #gives you everything, exactly the same"
   ]
  },
  {
   "cell_type": "code",
   "execution_count": 18,
   "metadata": {},
   "outputs": [
    {
     "data": {
      "text/plain": [
       "1"
      ]
     },
     "execution_count": 18,
     "metadata": {},
     "output_type": "execute_result"
    }
   ],
   "source": [
    "arr = [[1,1,1,1,1], [2,2,2,2, 2], [3,3,3,3, 3]]\n",
    "arr[0][1]"
   ]
  },
  {
   "cell_type": "code",
   "execution_count": 5,
   "metadata": {},
   "outputs": [
    {
     "data": {
      "text/plain": [
       "array([[0, 0, 0],\n",
       "       [0, 0, 0],\n",
       "       [0, 0, 0],\n",
       "       ...,\n",
       "       [0, 0, 0],\n",
       "       [0, 0, 0],\n",
       "       [0, 0, 0]], dtype=uint8)"
      ]
     },
     "execution_count": 5,
     "metadata": {},
     "output_type": "execute_result"
    }
   ],
   "source": [
    "cv2.imshow(\"R\", image) \n",
    "# try to plot all 3 channels\n",
    "cv2.waitKey(0)\n",
    "cv2.destroyAllWindows()"
   ]
  },
  {
   "cell_type": "code",
   "execution_count": null,
   "metadata": {},
   "outputs": [],
   "source": []
  }
 ],
 "metadata": {
  "kernelspec": {
   "display_name": "base",
   "language": "python",
   "name": "python3"
  },
  "language_info": {
   "codemirror_mode": {
    "name": "ipython",
    "version": 3
   },
   "file_extension": ".py",
   "mimetype": "text/x-python",
   "name": "python",
   "nbconvert_exporter": "python",
   "pygments_lexer": "ipython3",
   "version": "3.9.16"
  },
  "orig_nbformat": 4
 },
 "nbformat": 4,
 "nbformat_minor": 2
}
